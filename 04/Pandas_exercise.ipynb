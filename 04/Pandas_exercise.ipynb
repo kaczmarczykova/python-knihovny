{
  "nbformat": 4,
  "nbformat_minor": 0,
  "metadata": {
    "colab": {
      "provenance": []
    },
    "kernelspec": {
      "name": "python3",
      "display_name": "Python 3"
    },
    "language_info": {
      "name": "python"
    }
  },
  "cells": [
    {
      "cell_type": "code",
      "execution_count": null,
      "metadata": {
        "id": "rtTspZCAdKcy"
      },
      "outputs": [],
      "source": [
        "# prompt: generuj cvičení s načtením dat z csv a vypsání několika záznamů pandas\n",
        "\n",
        "import pandas as pd\n",
        "\n",
        "# Nahrajte data z CSV souboru\n",
        "# Nahraďte 'your_file.csv' skutečným názvem souboru\n",
        "try:\n",
        "  df = pd.read_csv('your_file.csv')\n",
        "except FileNotFoundError:\n",
        "  print(\"Soubor 'your_file.csv' nebyl nalezen. Ujistěte se, že soubor existuje a cesta k němu je správná.\")\n",
        "  exit()\n",
        "\n",
        "# Zobrazte prvních 5 záznamů\n",
        "print(\"Prvních 5 záznamů:\")\n",
        "print(df.head())\n",
        "\n",
        "# Zobrazte posledních 3 záznamy\n",
        "print(\"\\nPosledních 3 záznamů:\")\n",
        "print(df.tail(3))\n",
        "\n",
        "# Zobrazte záznamy od 10. do 15. řádku (indexy se počítají od 0)\n",
        "print(\"\\nZáznamy od 10. do 15. řádku:\")\n",
        "print(df.iloc[9:15])\n",
        "\n",
        "# Zobrazte informace o datech\n",
        "print(\"\\nInformace o datech:\")\n",
        "print(df.info())\n",
        "\n",
        "# Zobrazte popisné statistiky\n",
        "print(\"\\nPopisné statistiky:\")\n",
        "print(df.describe())\n"
      ]
    },
    {
      "cell_type": "markdown",
      "source": [
        " # Pandas - cvičení"
      ],
      "metadata": {
        "id": "cR5VX3Q-dZuV"
      }
    },
    {
      "cell_type": "markdown",
      "source": [
        "## Příprava cvičení"
      ],
      "metadata": {
        "id": "WYQU7zowdctI"
      }
    },
    {
      "cell_type": "markdown",
      "source": [
        " - pro potřeby cvičení si spusť následující kód:"
      ],
      "metadata": {
        "id": "gc0L49SodsgY"
      }
    },
    {
      "cell_type": "code",
      "source": [
        "!pip install faker"
      ],
      "metadata": {
        "id": "RhEEIiSsePIe"
      },
      "execution_count": null,
      "outputs": []
    },
    {
      "cell_type": "code",
      "source": [
        "import pandas as pd\n",
        "import random\n",
        "from faker import Faker\n",
        "\n",
        "fake = Faker(\"cs_CZ\")  # Generátor náhodných dat v češtině\n",
        "Faker.seed(42)\n",
        "\n",
        "# Generování 1000 řádků dat\n",
        "data = []\n",
        "for i in range(1, 1001):\n",
        "    jmeno = fake.name()\n",
        "    vek = random.randint(22, 60)\n",
        "    mesto = fake.city()\n",
        "    plat = random.randint(40000, 80000)\n",
        "    pozice = random.choice(\n",
        "        [\"Analytik\", \"Manažer\", \"Konzultant\", \"Specialista\", \"Asistent\", \"Ředitel\", \"Technik\", \"Koordinátor\",\n",
        "         \"Projektový manažer\"])\n",
        "    oddeleni = random.choice(\n",
        "        [\"IT\", \"HR\", \"Prodej\", \"Marketing\", \"Podpora\", \"Stavba\", \"Administrativa\", \"Finanční\", \"Výroba\", \"Kvalita\"])\n",
        "    telefon = fake.random_number(digits=9, fix_len=True)\n",
        "    email = fake.email()\n",
        "    datum_nastupu = fake.date_between(start_date=\"-8y\", end_date=\"today\").strftime(\"%Y-%m-%d\")\n",
        "    data.append([i, jmeno, vek, mesto, plat, pozice, oddeleni, telefon, email, datum_nastupu])\n",
        "\n",
        "# Vytvoření DataFrame\n",
        "columns = [\"Osobní číslo\", \"Jméno\", \"Věk\", \"Město\", \"Plat\", \"Pozice\", \"Oddělení\", \"Telefon\", \"Email\", \"Datum nástupu\"]\n",
        "df = pd.DataFrame(data, columns=columns)\n",
        "\n",
        "# Uložení do CSV\n",
        "df.to_csv(\"pracovnici.csv\", index=False, encoding=\"utf-8\")\n",
        "display('Soubor připraven!')"
      ],
      "metadata": {
        "id": "UWbJbtSudgTs"
      },
      "execution_count": null,
      "outputs": []
    },
    {
      "cell_type": "markdown",
      "source": [
        "## Import Pandas"
      ],
      "metadata": {
        "id": "S3buCBkKfWgB"
      }
    },
    {
      "cell_type": "markdown",
      "source": [
        " - Pandas už sice bude importován, protože jsme ho využili k vytvoření souboru, ale opakování, matka moudrosti, takže ho naimportuj znovu :)"
      ],
      "metadata": {
        "id": "U4GM86kUfdyq"
      }
    },
    {
      "cell_type": "code",
      "source": [],
      "metadata": {
        "id": "dvidbH4AfWsW"
      },
      "execution_count": null,
      "outputs": []
    },
    {
      "cell_type": "markdown",
      "source": [
        "## Načtení souboru"
      ],
      "metadata": {
        "id": "M8QCBUcYe2vE"
      }
    },
    {
      "cell_type": "markdown",
      "source": [
        " - pak je potřeba načíst data z CSV souboru, ať s nimi můžeme pracovat"
      ],
      "metadata": {
        "id": "8yCW3Qsxe6iK"
      }
    },
    {
      "cell_type": "code",
      "source": [],
      "metadata": {
        "id": "GwvgqEgae681"
      },
      "execution_count": null,
      "outputs": []
    },
    {
      "cell_type": "markdown",
      "source": [
        " - mrkni se na několik řádků z dat"
      ],
      "metadata": {
        "id": "XzMopqfbwRFs"
      }
    },
    {
      "cell_type": "code",
      "source": [],
      "metadata": {
        "id": "3kP1Z8tvwQrM"
      },
      "execution_count": null,
      "outputs": []
    },
    {
      "cell_type": "markdown",
      "source": [
        " - koukni na informace o sloupcích"
      ],
      "metadata": {
        "id": "bgQlz2ctwYoF"
      }
    },
    {
      "cell_type": "code",
      "source": [],
      "metadata": {
        "id": "t0TwkN2SwZRM"
      },
      "execution_count": null,
      "outputs": []
    },
    {
      "cell_type": "markdown",
      "source": [
        " - koukni na základní statistické údaje"
      ],
      "metadata": {
        "id": "SXyd0hNPwcjF"
      }
    },
    {
      "cell_type": "code",
      "source": [],
      "metadata": {
        "id": "C49JKe3-wc5g"
      },
      "execution_count": null,
      "outputs": []
    },
    {
      "cell_type": "markdown",
      "source": [
        "- a dál už podle lektora :)"
      ],
      "metadata": {
        "id": "2VWXy110ygV7"
      }
    },
    {
      "cell_type": "code",
      "source": [],
      "metadata": {
        "id": "lOQ3XU6TymH-"
      },
      "execution_count": null,
      "outputs": []
    }
  ]
}