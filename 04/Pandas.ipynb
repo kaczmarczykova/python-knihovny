{
  "cells": [
    {
      "cell_type": "markdown",
      "metadata": {
        "id": "Wkty7NlnjCV-"
      },
      "source": [
        "# Pandas"
      ]
    },
    {
      "cell_type": "markdown",
      "metadata": {
        "id": "2gsEramal4Tg"
      },
      "source": [
        "Pandas je výkonná a všestranná knihovna pro jazyk Python, která se specializuje na zpracování a analýzu dat. Je široce používaná v oblasti datové vědy, strojového učení a statistiky kvůli své schopnosti efektivně pracovat s daty ve formě tabulek.\n",
        "\n",
        "Název pochází z termínu \"Panel Data\", což je ekonomický termín pro multidimenzionální struktury dat."
      ]
    },
    {
      "cell_type": "markdown",
      "metadata": {
        "id": "TTqGmf0gjHvn"
      },
      "source": [
        "## Stručná úvodní ukázka"
      ]
    },
    {
      "cell_type": "code",
      "execution_count": 1,
      "metadata": {
        "id": "_Jv7osSzmNCL"
      },
      "outputs": [],
      "source": [
        "# import knihovny pandas a nastavení běžně používaného aliasu\n",
        "import pandas as pd"
      ]
    },
    {
      "cell_type": "code",
      "execution_count": 2,
      "metadata": {
        "id": "qlsV96LKmNFC"
      },
      "outputs": [],
      "source": [
        "# vytvoření jednoduchého ukázkového datasetu\n",
        "# praktická pozn.: dataset se takto v praxi většinou nevytváří, k tomu slouží zdroje z csv a jiných souborů, zdroje dat z SQL, API apod.\n",
        "data_ukazka = {\n",
        "    'Jméno': ['Anna', 'Petr', 'Eva', 'Tomáš', 'Jiří', 'Karel', 'Ivan', 'Květa'],\n",
        "    'Věk': [28, 35, 22, 30, 23, 45, 31, 43],\n",
        "    'Plat': [50000, 52000, 48000, 51000, 38500, 23000, 53500, 59000]\n",
        "}"
      ]
    },
    {
      "cell_type": "code",
      "execution_count": 5,
      "metadata": {
        "id": "F-vMnf2pmNIN"
      },
      "outputs": [],
      "source": [
        "# vytvoření DataFrame z ukázkového datasetu a uložení do proměnné\n",
        "df_ukazka = pd.DataFrame(data_ukazka)"
      ]
    },
    {
      "cell_type": "code",
      "execution_count": 6,
      "metadata": {
        "id": "eulR5r6bnAzK"
      },
      "outputs": [
        {
          "data": {
            "text/html": [
              "<div>\n",
              "<style scoped>\n",
              "    .dataframe tbody tr th:only-of-type {\n",
              "        vertical-align: middle;\n",
              "    }\n",
              "\n",
              "    .dataframe tbody tr th {\n",
              "        vertical-align: top;\n",
              "    }\n",
              "\n",
              "    .dataframe thead th {\n",
              "        text-align: right;\n",
              "    }\n",
              "</style>\n",
              "<table border=\"1\" class=\"dataframe\">\n",
              "  <thead>\n",
              "    <tr style=\"text-align: right;\">\n",
              "      <th></th>\n",
              "      <th>Jméno</th>\n",
              "      <th>Věk</th>\n",
              "      <th>Plat</th>\n",
              "    </tr>\n",
              "  </thead>\n",
              "  <tbody>\n",
              "    <tr>\n",
              "      <th>0</th>\n",
              "      <td>Anna</td>\n",
              "      <td>28</td>\n",
              "      <td>50000</td>\n",
              "    </tr>\n",
              "    <tr>\n",
              "      <th>1</th>\n",
              "      <td>Petr</td>\n",
              "      <td>35</td>\n",
              "      <td>52000</td>\n",
              "    </tr>\n",
              "    <tr>\n",
              "      <th>2</th>\n",
              "      <td>Eva</td>\n",
              "      <td>22</td>\n",
              "      <td>48000</td>\n",
              "    </tr>\n",
              "    <tr>\n",
              "      <th>3</th>\n",
              "      <td>Tomáš</td>\n",
              "      <td>30</td>\n",
              "      <td>51000</td>\n",
              "    </tr>\n",
              "    <tr>\n",
              "      <th>4</th>\n",
              "      <td>Jiří</td>\n",
              "      <td>23</td>\n",
              "      <td>38500</td>\n",
              "    </tr>\n",
              "  </tbody>\n",
              "</table>\n",
              "</div>"
            ],
            "text/plain": [
              "   Jméno  Věk   Plat\n",
              "0   Anna   28  50000\n",
              "1   Petr   35  52000\n",
              "2    Eva   22  48000\n",
              "3  Tomáš   30  51000\n",
              "4   Jiří   23  38500"
            ]
          },
          "execution_count": 6,
          "metadata": {},
          "output_type": "execute_result"
        }
      ],
      "source": [
        "# zobrazení prvních záznamů z dataframu (pokud nezadáme číslo jako parametr, zobrazí se 5 prvních záznamů)\n",
        "df_ukazka.head()"
      ]
    },
    {
      "cell_type": "code",
      "execution_count": 7,
      "metadata": {
        "id": "DV678oNnn9_W"
      },
      "outputs": [
        {
          "name": "stdout",
          "output_type": "stream",
          "text": [
            "<class 'pandas.core.frame.DataFrame'>\n",
            "RangeIndex: 8 entries, 0 to 7\n",
            "Data columns (total 3 columns):\n",
            " #   Column  Non-Null Count  Dtype \n",
            "---  ------  --------------  ----- \n",
            " 0   Jméno   8 non-null      object\n",
            " 1   Věk     8 non-null      int64 \n",
            " 2   Plat    8 non-null      int64 \n",
            "dtypes: int64(2), object(1)\n",
            "memory usage: 324.0+ bytes\n"
          ]
        }
      ],
      "source": [
        "# získání informací o dataframu a jeho sloupcích\n",
        "df_ukazka.info()"
      ]
    },
    {
      "cell_type": "code",
      "execution_count": null,
      "metadata": {
        "id": "OwVy2zyEoP7t"
      },
      "outputs": [],
      "source": [
        "# filtrování zaměstnanců podle věku\n",
        "df_ukazka[df_ukazka['Věk'] > 33]"
      ]
    },
    {
      "cell_type": "markdown",
      "metadata": {
        "id": "sKJmK1hXjrjZ"
      },
      "source": [
        "## Objekty a datové typy"
      ]
    },
    {
      "cell_type": "markdown",
      "metadata": {
        "id": "-n3_871hj2Vs"
      },
      "source": [
        "### Objekty"
      ]
    },
    {
      "cell_type": "markdown",
      "metadata": {
        "id": "DgzA76TUj6_X"
      },
      "source": [
        "- **Series**: Jednorozměrné pole podobné seznamu.\n",
        "- **DataFrame**: Dvourozměrná tabulka (podobná Excelu) s řádky a sloupci."
      ]
    },
    {
      "cell_type": "markdown",
      "metadata": {
        "id": "2eUlbkmmouTz"
      },
      "source": [
        "### Datové typy"
      ]
    },
    {
      "cell_type": "markdown",
      "metadata": {
        "id": "x2LOIDOmpC3P"
      },
      "source": [
        "Pandas používá datové typy na základě knihovny NumPy, které rozšiřuje o některé specifické datové typy:\n",
        "\n",
        "| Datový typ       | Popis                                                   |\n",
        "|------------------|---------------------------------------------------------|\n",
        "| `int64`          | celočíselné hodnoty (např. 1, 100, -5).                 |\n",
        "| `float64`        | Desetinná čísla (např. 3.14, -0.01).                    |\n",
        "| `bool`           | Logické hodnoty (True / False).                         |\n",
        "| `object`         |  Obecný typ (obvykle pro řetězce nebo smíšená data).    |\n",
        "| `string`         | Specifický typ pro textová data (od pandas 1.0).        |\n",
        "| `datetime64[ns]` | Datum a čas (např. '2023-11-20 12:00:00').              |\n",
        "| `timedelta[ns]`  | Rozdíl mezi dvěma datovými body (časový rozdíl).        |\n",
        "| `category`       | Optimalizovaný typ pro opakující se kategorie.          |\n"
      ]
    },
    {
      "cell_type": "markdown",
      "metadata": {
        "id": "p5Oc2ZS3kH00"
      },
      "source": [
        "## Načítání a ukládání dat"
      ]
    },
    {
      "cell_type": "markdown",
      "metadata": {
        "id": "CQaB6PJzkNB2"
      },
      "source": [
        "- Podpora formátů: CSV, Excel, SQL, JSON, HTML, HDF5, atd.\n",
        "- Funkce:\n",
        " - pd.read_csv(), pd.to_csv()\n",
        " - pd.read_excel(), pd.to_excel()"
      ]
    },
    {
      "cell_type": "code",
      "execution_count": null,
      "metadata": {
        "collapsed": true,
        "id": "ElHLOCtE8BdW"
      },
      "outputs": [],
      "source": [
        "import pandas as pd\n",
        "\n",
        "df_people = pd.read_csv('zamestnanci.csv', sep=';')\n"
      ]
    },
    {
      "cell_type": "markdown",
      "metadata": {
        "id": "itSshhZRWBMN"
      },
      "source": [
        " ## Prohlízení dat a informací"
      ]
    },
    {
      "cell_type": "markdown",
      "metadata": {
        "id": "-eg9wLDVWU4j"
      },
      "source": [
        "### Samotná data"
      ]
    },
    {
      "cell_type": "markdown",
      "metadata": {
        "id": "C5nw6TB9WbOF"
      },
      "source": [
        " -  celé řádky dataframu od začátku"
      ]
    },
    {
      "cell_type": "code",
      "execution_count": null,
      "metadata": {
        "id": "fP3H2QAqWayx"
      },
      "outputs": [],
      "source": [
        "df_people.head() # Defaultně zobrazí prvních 5 řádků"
      ]
    },
    {
      "cell_type": "code",
      "execution_count": null,
      "metadata": {
        "id": "7dIsDTRCWvSM"
      },
      "outputs": [],
      "source": [
        "df_people.head(10)  # Zobrazí prvních 10 řádků"
      ]
    },
    {
      "cell_type": "markdown",
      "metadata": {
        "id": "5DpJS2sUW7cv"
      },
      "source": [
        "- celé řádky dataframu od konce"
      ]
    },
    {
      "cell_type": "code",
      "execution_count": null,
      "metadata": {
        "id": "-FpkOItOW68M"
      },
      "outputs": [],
      "source": [
        "df_people.tail()  # Defaultně zobrazí posledních 5 řádků"
      ]
    },
    {
      "cell_type": "code",
      "execution_count": null,
      "metadata": {
        "id": "uDZnmGs4XDAU"
      },
      "outputs": [],
      "source": [
        "df_people.tail(8)  # Zobrazí posledních 8 řádků"
      ]
    },
    {
      "cell_type": "markdown",
      "metadata": {
        "id": "CvlRfINvc0FG"
      },
      "source": [
        " - náhodné řádky z tabulky"
      ]
    },
    {
      "cell_type": "code",
      "execution_count": null,
      "metadata": {
        "id": "DdoF_r48cz5w"
      },
      "outputs": [],
      "source": [
        "df_people.sample() # Defaultně zobrazí 5 náhodných řádků"
      ]
    },
    {
      "cell_type": "code",
      "execution_count": null,
      "metadata": {
        "id": "iIvkwErdc83D"
      },
      "outputs": [],
      "source": [
        "df_people.sample(10) # Zobrazí 10 náhodných řádků"
      ]
    },
    {
      "cell_type": "markdown",
      "metadata": {
        "id": "vxA1xqPXauCr"
      },
      "source": [
        " - výběr konkrétního sloupce"
      ]
    },
    {
      "cell_type": "code",
      "execution_count": null,
      "metadata": {
        "id": "u34yTZvJa34A"
      },
      "outputs": [],
      "source": [
        "df_people['Name']"
      ]
    },
    {
      "cell_type": "markdown",
      "metadata": {
        "id": "V64k76FLa8ch"
      },
      "source": [
        " - výběr více sloupců"
      ]
    },
    {
      "cell_type": "code",
      "execution_count": null,
      "metadata": {
        "id": "AOo1YREha80i"
      },
      "outputs": [],
      "source": [
        "df_people[['Name', 'Age']]"
      ]
    },
    {
      "cell_type": "markdown",
      "metadata": {
        "id": "X8gzz0_pbFRd"
      },
      "source": [
        " - výběr prvních nebo posledních několika řádků konkrétního sloupce"
      ]
    },
    {
      "cell_type": "code",
      "execution_count": null,
      "metadata": {
        "id": "CYFxl92hbFlY"
      },
      "outputs": [],
      "source": [
        "df_people['Salary'].head()  # Zobrazí mzdy prvních 5 řádků"
      ]
    },
    {
      "cell_type": "code",
      "execution_count": null,
      "metadata": {
        "id": "yh-AvWdBbKMB"
      },
      "outputs": [],
      "source": [
        "df_people['Salary'].tail()  # Zobrazí mzdy posledních 5 řádků"
      ]
    },
    {
      "cell_type": "markdown",
      "metadata": {
        "id": "guCHoivKb3Kp"
      },
      "source": [
        " - Výběr konkrétní buňky (hodnoty)"
      ]
    },
    {
      "cell_type": "code",
      "execution_count": null,
      "metadata": {
        "id": "Q8gcUALHb8j_"
      },
      "outputs": [],
      "source": [
        "df_people.iloc[0, 2]  # Hodnota 1. řádku a 3. sloupce"
      ]
    },
    {
      "cell_type": "code",
      "execution_count": null,
      "metadata": {
        "id": "0VlFQrUvb-cE"
      },
      "outputs": [],
      "source": [
        "df_people.loc[0, 'City']  # Hodnota 1. řádku ve sloupci \"City\""
      ]
    },
    {
      "cell_type": "markdown",
      "metadata": {
        "id": "uc38T_HYwqoL"
      },
      "source": [
        "- jedinečné hodnoty"
      ]
    },
    {
      "cell_type": "code",
      "execution_count": null,
      "metadata": {
        "id": "n1JawTw-wpWA"
      },
      "outputs": [],
      "source": [
        "df_people['City'].unique()"
      ]
    },
    {
      "cell_type": "markdown",
      "metadata": {
        "id": "Oxmi3iHOYODF"
      },
      "source": [
        " - rychlý pohled na strukturu a velikost dat"
      ]
    },
    {
      "cell_type": "code",
      "execution_count": null,
      "metadata": {
        "id": "nqOBuNa8YTVu"
      },
      "outputs": [],
      "source": [
        "df_people.info()"
      ]
    },
    {
      "cell_type": "markdown",
      "metadata": {
        "id": "cne4ZICxYqtr"
      },
      "source": [
        " - počet řádků a sloupců"
      ]
    },
    {
      "cell_type": "code",
      "execution_count": null,
      "metadata": {
        "id": "rsnFvjCuYuO9"
      },
      "outputs": [],
      "source": [
        "df_people.shape"
      ]
    },
    {
      "cell_type": "markdown",
      "metadata": {
        "id": "0oc1YnFVYybx"
      },
      "source": [
        " - názvy sloupců"
      ]
    },
    {
      "cell_type": "code",
      "execution_count": null,
      "metadata": {
        "id": "uwlEtXNfYyD2"
      },
      "outputs": [],
      "source": [
        "df_people.columns"
      ]
    },
    {
      "cell_type": "markdown",
      "metadata": {
        "id": "oA19Dg3YY6v5"
      },
      "source": [
        " - základní statistika"
      ]
    },
    {
      "cell_type": "code",
      "execution_count": null,
      "metadata": {
        "id": "iinGPwG8ZBoQ"
      },
      "outputs": [],
      "source": [
        "df_people.describe() # Poskytne základní statistiky pro číselné sloupce"
      ]
    },
    {
      "cell_type": "code",
      "execution_count": null,
      "metadata": {
        "id": "ZZUBFOsqZH9S"
      },
      "outputs": [],
      "source": [
        "df_people.describe(include='all') # Poskytne základní statistiky pro všechny sloupce"
      ]
    },
    {
      "cell_type": "markdown",
      "metadata": {
        "id": "F2vUX4WWccHt"
      },
      "source": [
        " - počet jedinečných hodnot v každém sloupci"
      ]
    },
    {
      "cell_type": "code",
      "execution_count": null,
      "metadata": {
        "id": "LPZOw8Cpcb56"
      },
      "outputs": [],
      "source": [
        "df_people.nunique()"
      ]
    },
    {
      "cell_type": "markdown",
      "metadata": {
        "id": "8JPXdU9BcrYW"
      },
      "source": [
        " - četnost (počet výskytů) jedinečných hodnot"
      ]
    },
    {
      "cell_type": "code",
      "execution_count": null,
      "metadata": {
        "id": "1pSeDJEpcrlC"
      },
      "outputs": [],
      "source": [
        "df_people['City'].value_counts()"
      ]
    },
    {
      "cell_type": "markdown",
      "metadata": {
        "id": "1MmDT0k4kTxo"
      },
      "source": [
        "## Manipulace dat"
      ]
    },
    {
      "cell_type": "markdown",
      "metadata": {
        "id": "BLNaZVfVVdhD"
      },
      "source": [
        "### Úprava datových typů"
      ]
    },
    {
      "cell_type": "markdown",
      "metadata": {
        "id": "FH1abIG1ViC5"
      },
      "source": [
        " - v přechozí části jsme se dozvěděli, jaké datové typy Pandas používá\n",
        " - protože se může stát, že Pandas datový typ nerozpozná, případně jej chceme sami změnit, je to možné udělat následujícím způsobem:"
      ]
    },
    {
      "cell_type": "code",
      "execution_count": null,
      "metadata": {
        "id": "Qd9L76rYkg_I"
      },
      "outputs": [],
      "source": [
        "df_people.info()"
      ]
    },
    {
      "cell_type": "code",
      "execution_count": null,
      "metadata": {
        "id": "pDpfzPhXVg79"
      },
      "outputs": [],
      "source": [
        "df_people['City'] = df_people['City'].astype('category')"
      ]
    },
    {
      "cell_type": "code",
      "execution_count": null,
      "metadata": {
        "id": "e62QvlCXkPvE"
      },
      "outputs": [],
      "source": [
        "df_people['Salary'] = df_people['Salary'].astype('float')"
      ]
    },
    {
      "cell_type": "code",
      "execution_count": null,
      "metadata": {
        "id": "ZkUp4x62kcqZ"
      },
      "outputs": [],
      "source": [
        "df_people.info()"
      ]
    },
    {
      "cell_type": "markdown",
      "metadata": {
        "id": "s0bF3vG8geaM"
      },
      "source": [
        "### Filtrování a podmíněné výběry dat"
      ]
    },
    {
      "cell_type": "markdown",
      "metadata": {
        "id": "JBO2rjGegtju"
      },
      "source": [
        "#### Typy podmínek"
      ]
    },
    {
      "cell_type": "markdown",
      "metadata": {
        "id": "cGhIFg5Yi7mt"
      },
      "source": [
        "| Operátor | Význam                          | Příklad použití                        |\n",
        "|----------|----------------------------------|----------------------------------------|\n",
        "| `==`     | Rovnost                         | df[df[\"Věk\"] == 30]                   |\n",
        "| `!=`     | Nerovnost                       | df[df[\"Město\"] != \"Praha\"]            |\n",
        "| `>`      | Větší než                       | df[df[\"Plat\"] > 50000]                |\n",
        "| `<`      | Menší než                       | df[df[\"Věk\"] < 40]                    |\n",
        "| `>=`     | Větší nebo rovno                | df[df[\"Věk\"] >= 25]                   |\n",
        "| `<=`     | Menší nebo rovno                | df[df[\"Plat\"] <= 60000]               |\n",
        "| `&`      | Logické A (AND)                 | df[(df[\"Věk\"] > 25) & (df[\"Plat\"] > 50000)] |\n",
        "| `\\|`      | Logické NEBO (OR)               | df[(df[\"Město\"] == \"Praha\") \\| (df[\"Město\"] == \"Brno\")] |\n",
        "| `~`      | Logická negace (NOT)            | df[~(df[\"Město\"] == \"Brno\")]          |\n",
        "| `.isin()`| Hodnota obsahuje v seznamu      | df[df[\"Město\"].isin([\"Praha\", \"Brno\"])]|\n",
        "| `.str.contains()` | Obsahuje podřetězec     | df[df[\"Jméno\"].str.contains(\"ov\")]    |"
      ]
    },
    {
      "cell_type": "markdown",
      "metadata": {
        "id": "JspnPVxOjbJ3"
      },
      "source": [
        "#### Ukázky"
      ]
    },
    {
      "cell_type": "markdown",
      "metadata": {
        "id": "qFTEbIdFgzan"
      },
      "source": [
        " - pro potřeby filtrování využijeme v Pandas podmínku"
      ]
    },
    {
      "cell_type": "code",
      "execution_count": null,
      "metadata": {
        "id": "wqudPol_gyuL"
      },
      "outputs": [],
      "source": [
        "df_people[df_people[\"Salary\"] > 50000]"
      ]
    },
    {
      "cell_type": "markdown",
      "metadata": {
        "id": "z-9l2f-lhPqq"
      },
      "source": [
        " - podmínek může být víc a můžeme je sdružovat podobně jako v Pythonu\n",
        " - jen musíme využít `&` pro logické A, `|` pro logické NEBO, `~` pro logické NEGACE."
      ]
    },
    {
      "cell_type": "code",
      "execution_count": null,
      "metadata": {
        "id": "ykYZ5YWYhOdj"
      },
      "outputs": [],
      "source": [
        "df_people[(df_people[\"Salary\"] > 60000) & (df_people[\"City\"] == \"Prague\")]"
      ]
    },
    {
      "cell_type": "code",
      "execution_count": null,
      "metadata": {
        "id": "Q2aqcPlOhjWL"
      },
      "outputs": [],
      "source": [
        "df_people[(df_people[\"Name\"] == 'Hana') | (df_people[\"Age\"] == 33)]"
      ]
    },
    {
      "cell_type": "code",
      "execution_count": null,
      "metadata": {
        "id": "opmi5MUChjKA"
      },
      "outputs": [],
      "source": [
        "df_people[~(df_people[\"Name\"] == 'Hana')]"
      ]
    },
    {
      "cell_type": "markdown",
      "metadata": {
        "id": "tTSdMsWpiIbe"
      },
      "source": [
        " - lze také filtrovat na základě zjištění, zda je hodnota obsažena ve výčtu jiných hodnot"
      ]
    },
    {
      "cell_type": "code",
      "execution_count": null,
      "metadata": {
        "id": "G3G14OvCiJUw"
      },
      "outputs": [],
      "source": [
        "vip_jmena = ['Jiří', 'Lenka', 'Martin']\n",
        "df_people[df_people['Name'].isin(vip_jmena)]"
      ]
    },
    {
      "cell_type": "markdown",
      "metadata": {
        "id": "qJ6120kfjIFD"
      },
      "source": [
        " - jako poslední si ukážeme způsob, jak zjistit, zda text obsahuje uvedenou část"
      ]
    },
    {
      "cell_type": "code",
      "execution_count": null,
      "metadata": {
        "id": "G6X21s2AjH67"
      },
      "outputs": [],
      "source": [
        "df_people[df_people['Name'].str.contains('iř')]"
      ]
    },
    {
      "cell_type": "markdown",
      "metadata": {
        "id": "ALMz-ic7kZhK"
      },
      "source": [
        "- Výběr řádků a sloupců (pomocí loc, iloc).\n",
        "- Filtrování a podmíněné výběry.\n",
        "- Přidávání, úprava a mazání sloupců."
      ]
    },
    {
      "cell_type": "markdown",
      "metadata": {
        "id": "zdDNDXm_rcK1"
      },
      "source": [
        "### Práce s chybějícími hodnotami"
      ]
    },
    {
      "cell_type": "markdown",
      "metadata": {
        "id": "XB8B1aq1rwpM"
      },
      "source": [
        "| Operace                        | Příkaz                                                                |\n",
        "|--------------------------------|-----------------------------------------------------------------------|\n",
        "| Kontrola NaN                   | `df.isna()`                                                          |\n",
        "| Počet NaN                      | `df.isna().sum()`                                                    |\n",
        "| Odstranění řádků s NaN         | `df.dropna()`                                                        |\n",
        "| Odstranění sloupců s NaN       | `df.dropna(axis=1)`                                                  |\n",
        "| Nahrazení konkrétní hodnotou   | `df.fillna(hodnota)`                                                 |\n",
        "| Nahrazení průměrnou hodnotou   | `df.fillna(df[\"sloupec\"].mean())`                                    |\n",
        "| Forward fill (nahradit dopředu)| `df.fillna(method=\"ffill\")`                                          |\n",
        "| Filtrování řádků s NaN         | `df[df.isna().any(axis=1)]`                                          |\n",
        "| Filtrování řádků bez NaN       | `df[df.notna().all(axis=1)]`                                         |"
      ]
    },
    {
      "cell_type": "markdown",
      "metadata": {
        "id": "dvEDiikTr-24"
      },
      "source": [
        " - chybějící hodnoty"
      ]
    },
    {
      "cell_type": "code",
      "execution_count": null,
      "metadata": {
        "id": "KHiJz7qvr_J9"
      },
      "outputs": [],
      "source": [
        "df_people.sample(5).isna()"
      ]
    },
    {
      "cell_type": "markdown",
      "metadata": {
        "id": "U3QDB-EnsLS1"
      },
      "source": [
        " - počet chybějících hodnot po sloupcích"
      ]
    },
    {
      "cell_type": "code",
      "execution_count": null,
      "metadata": {
        "id": "sp2aVMPhsLoU"
      },
      "outputs": [],
      "source": [
        "df_people.isna().sum()"
      ]
    },
    {
      "cell_type": "markdown",
      "metadata": {
        "id": "sy3czjtMsXpI"
      },
      "source": [
        " - odstranění všech řádků s alespoň jednou chybějící hodnotou"
      ]
    },
    {
      "cell_type": "code",
      "execution_count": null,
      "metadata": {
        "id": "C33ZuMR7sX_k"
      },
      "outputs": [],
      "source": [
        "df_people.dropna()"
      ]
    },
    {
      "cell_type": "markdown",
      "metadata": {
        "id": "kC_94rIjsvMQ"
      },
      "source": [
        " - odstranění sloupců s alespoň jednou chybějící hodnotou"
      ]
    },
    {
      "cell_type": "code",
      "execution_count": null,
      "metadata": {
        "id": "7zsODynpsm0D"
      },
      "outputs": [],
      "source": [
        "df_people.dropna(axis=1)"
      ]
    },
    {
      "cell_type": "markdown",
      "metadata": {
        "id": "0_QvZd0Gt2rJ"
      },
      "source": [
        " - nahrazení konkrétní hodnotou"
      ]
    },
    {
      "cell_type": "code",
      "execution_count": null,
      "metadata": {
        "id": "rYe2VVO_t3Bn"
      },
      "outputs": [],
      "source": [
        "mean_salary = df_people[\"Salary\"].fillna(0)\n",
        "df_people[\"Salary\"].fillna(mean_salary)"
      ]
    },
    {
      "cell_type": "markdown",
      "metadata": {
        "id": "QYbBPhFqu0ft"
      },
      "source": [
        " - nahrazení vypočtenou hodnotou"
      ]
    },
    {
      "cell_type": "code",
      "execution_count": null,
      "metadata": {
        "id": "0uk66ehpu0rh"
      },
      "outputs": [],
      "source": [
        "df_people[\"Salary\"].mean()"
      ]
    },
    {
      "cell_type": "markdown",
      "metadata": {
        "id": "xfP_P-VjlXn4"
      },
      "source": [
        "## Agregace a transformace dat"
      ]
    },
    {
      "cell_type": "markdown",
      "metadata": {
        "id": "ss5z-IX4k7KS"
      },
      "source": [
        "### Agregační funkce"
      ]
    },
    {
      "cell_type": "markdown",
      "metadata": {
        "id": "Wt6WWgSVk6_p"
      },
      "source": [
        "| Funkce            | Popis                                  | Příklad použití                         |\n",
        "|--------------------|----------------------------------------|-----------------------------------------|\n",
        "| `.sum()`          | Součet hodnot                         | df[\"Plat\"].sum()                       |\n",
        "| `.mean()`         | Průměrná hodnota                      | df[\"Plat\"].mean()                      |\n",
        "| `.median()`       | Mediánová hodnota                     | df[\"Plat\"].median()                    |\n",
        "| `.min()`          | Nejmenší hodnota                      | df[\"Věk\"].min()                        |\n",
        "| `.max()`          | Největší hodnota                      | df[\"Věk\"].max()                        |\n",
        "| `.count()`        | Počet hodnot                          | df[\"Město\"].count()                    |\n",
        "| `.std()`          | Směrodatná odchylka                   | df[\"Plat\"].std()                       |\n",
        "| `.var()`          | Variance                              | df[\"Plat\"].var()                       |\n",
        "| `.prod()`         | Součin všech hodnot                   | df[\"Plat\"].prod()                      |\n",
        "| `.agg()`          | Aplikace více agregací najednou       | df[\"Plat\"].agg(['sum', 'mean'])        |\n",
        "| `.quantile()`     | Hodnota kvantilu                      | df[\"Plat\"].quantile(0.75)              |"
      ]
    },
    {
      "cell_type": "code",
      "execution_count": null,
      "metadata": {
        "id": "b3MtmvWKm3tG"
      },
      "outputs": [],
      "source": [
        "df_people[\"Salary\"].mean()"
      ]
    },
    {
      "cell_type": "code",
      "execution_count": null,
      "metadata": {
        "id": "CQVt4QIvozh_"
      },
      "outputs": [],
      "source": [
        "df_people[\"Salary\"].median()"
      ]
    },
    {
      "cell_type": "code",
      "execution_count": null,
      "metadata": {
        "id": "yEx4Iluyo4nt"
      },
      "outputs": [],
      "source": [
        "df_people[\"Age\"].min()"
      ]
    },
    {
      "cell_type": "code",
      "execution_count": null,
      "metadata": {
        "id": "jo53JqBno4ZB"
      },
      "outputs": [],
      "source": [
        "df_people[\"Age\"].max()"
      ]
    },
    {
      "cell_type": "code",
      "execution_count": null,
      "metadata": {
        "id": "aU5sHle2m2kq"
      },
      "outputs": [],
      "source": [
        "df_people['Active'].count()"
      ]
    },
    {
      "cell_type": "markdown",
      "metadata": {
        "id": "I2Y6WC7HlbgU"
      },
      "source": [
        "- Funkce jako groupby(), pivot_table(), merge(), join().\n",
        "- Převod a manipulace číselných, textových nebo časových dat."
      ]
    },
    {
      "cell_type": "markdown",
      "metadata": {
        "id": "IzW4BmvJp1Zf"
      },
      "source": [
        "### Seskupení dat"
      ]
    },
    {
      "cell_type": "markdown",
      "metadata": {
        "id": "4KVpqYW2p_EM"
      },
      "source": [
        " - pomocí groupby můžeme data seskupit a využít agregační funkce"
      ]
    },
    {
      "cell_type": "code",
      "execution_count": null,
      "metadata": {
        "id": "DN6cTmdKqJxU"
      },
      "outputs": [],
      "source": [
        "df_people.groupby(\"City\", observed=True)[\"Salary\"].mean() # Jednoduchá agregace"
      ]
    },
    {
      "cell_type": "code",
      "execution_count": null,
      "metadata": {
        "id": "_AMYkXoqqTKF"
      },
      "outputs": [],
      "source": [
        "df_people.groupby([\"City\", \"Age\"], observed=True)[\"Salary\"].sum() # Víceklíčová agregace"
      ]
    },
    {
      "cell_type": "code",
      "execution_count": null,
      "metadata": {
        "id": "0NjyjOHtqiWG"
      },
      "outputs": [],
      "source": [
        "df_people.groupby(\"City\", observed=True).agg({\"Age\": \"mean\", \"Salary\": \"sum\"}) # Použití více agregací"
      ]
    },
    {
      "cell_type": "code",
      "execution_count": null,
      "metadata": {
        "id": "WkDD6RpKqswe"
      },
      "outputs": [],
      "source": [
        "df_people.groupby(\"City\", observed=True).filter(lambda x: x[\"Age\"].mean() > 32) # Filtrování skupin"
      ]
    },
    {
      "cell_type": "code",
      "execution_count": null,
      "metadata": {
        "id": "fUJOKE31p0jg"
      },
      "outputs": [],
      "source": [
        "df_people.groupby([\"Age\"]).size() # Počet záznamů ve skupinách"
      ]
    },
    {
      "cell_type": "markdown",
      "metadata": {
        "id": "HNRilCmHlf8s"
      },
      "source": [
        "- Statistika: mean(), median(), sum(), count().\n",
        "- Práce s chybějícími hodnotami: isnull(), fillna(), dropna()."
      ]
    }
  ],
  "metadata": {
    "colab": {
      "provenance": [],
      "toc_visible": true
    },
    "kernelspec": {
      "display_name": ".venv",
      "language": "python",
      "name": "python3"
    },
    "language_info": {
      "codemirror_mode": {
        "name": "ipython",
        "version": 3
      },
      "file_extension": ".py",
      "mimetype": "text/x-python",
      "name": "python",
      "nbconvert_exporter": "python",
      "pygments_lexer": "ipython3",
      "version": "3.12.9"
    }
  },
  "nbformat": 4,
  "nbformat_minor": 0
}
